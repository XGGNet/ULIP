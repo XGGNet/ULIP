{
 "cells": [
  {
   "cell_type": "code",
   "execution_count": 25,
   "metadata": {},
   "outputs": [
    {
     "name": "stdout",
     "output_type": "stream",
     "text": [
      "[[-0.61185935 -1.14155941  0.41435267 ...  1.46230765  2.87825587\n",
      "   0.2992656 ]\n",
      " [-0.61185935 -1.14155941  1.63949274 ... -0.43460701 -0.07967415\n",
      "   0.2992656 ]\n",
      " [-0.61185935 -1.14155941  1.63949274 ... -0.43460701 -0.07967415\n",
      "   0.2992656 ]\n",
      " ...\n",
      " [-0.61185935 -1.14155941  0.41435267 ... -0.43460701 -0.07967415\n",
      "   0.2992656 ]\n",
      " [-0.61185935 -1.14155941  0.41435267 ... -0.43460701 -0.07967415\n",
      "   0.2992656 ]\n",
      " [-0.61185935 -1.14155941 -0.81078739 ... -0.43460701 -0.07967415\n",
      "   0.2992656 ]]\n"
     ]
    },
    {
     "data": {
      "text/plain": [
       "(231, 80)"
      ]
     },
     "execution_count": 25,
     "metadata": {},
     "output_type": "execute_result"
    }
   ],
   "source": [
    "import pickle\n",
    "\n",
    "data_cv_path = 'data/TCGA_GBMLGG/splits/gbmlgg15cv_all_st_1_1_0.pkl'\n",
    "\n",
    "data_cv = pickle.load(open(data_cv_path, 'rb'))\n",
    "\n",
    "\n",
    "gene_data = data_cv['cv_splits'][1]['test']['x_omic']\n",
    "\n",
    "print(gene_data)\n",
    "\n",
    "gene_data.shape"
   ]
  },
  {
   "cell_type": "code",
   "execution_count": 26,
   "metadata": {},
   "outputs": [
    {
     "name": "stdout",
     "output_type": "stream",
     "text": [
      "[[-0.76108893 -1.68066789  0.84977243 ... -1.40890926  1.7435085\n",
      "  -0.27442905]\n",
      " [-0.76108893 -1.68066789  0.84977243 ... -1.40890926  1.7435085\n",
      "  -0.27442905]\n",
      " [-0.76108893 -1.68066789  2.2608143  ... -0.03342088 -0.48181158\n",
      "  -0.75238528]\n",
      " ...\n",
      " [-0.76108893 -1.68066789  0.84977243 ...  1.10908649  0.64956369\n",
      "  -0.5479287 ]\n",
      " [-0.76108893 -1.68066789  0.84977243 ...  1.10908649  0.64956369\n",
      "  -0.5479287 ]\n",
      " [-0.76108893 -1.68066789 -0.56126944 ... -0.44479556 -0.23844184\n",
      "   0.52308523]]\n"
     ]
    },
    {
     "data": {
      "text/plain": [
       "(147, 320)"
      ]
     },
     "execution_count": 26,
     "metadata": {},
     "output_type": "execute_result"
    }
   ],
   "source": [
    "import pickle\n",
    "\n",
    "data_cv_path = 'data/TCGA_GBMLGG/splits/gbmlgg15cv_all_st_1_1_0_rnaseq.pkl'\n",
    "\n",
    "data_cv = pickle.load(open(data_cv_path, 'rb'))\n",
    "\n",
    "\n",
    "gene_data = data_cv['cv_splits'][1]['test']['x_omic']\n",
    "\n",
    "print(gene_data)\n",
    "\n",
    "gene_data.shape"
   ]
  }
 ],
 "metadata": {
  "kernelspec": {
   "display_name": "_ulip",
   "language": "python",
   "name": "python3"
  },
  "language_info": {
   "codemirror_mode": {
    "name": "ipython",
    "version": 3
   },
   "file_extension": ".py",
   "mimetype": "text/x-python",
   "name": "python",
   "nbconvert_exporter": "python",
   "pygments_lexer": "ipython3",
   "version": "3.7.15"
  },
  "orig_nbformat": 4
 },
 "nbformat": 4,
 "nbformat_minor": 2
}
